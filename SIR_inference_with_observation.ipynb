{
 "cells": [
  {
   "cell_type": "markdown",
   "metadata": {},
   "source": [
    "# Inference with past observations"
   ]
  },
  {
   "cell_type": "code",
   "execution_count": 1,
   "metadata": {
    "colab": {
     "base_uri": "https://localhost:8080/",
     "height": 104
    },
    "colab_type": "code",
    "id": "mrvF461ppXnP",
    "outputId": "4c5ed138-b505-4d9e-81ec-2b1bad49ccbb"
   },
   "outputs": [],
   "source": [
    "%matplotlib inline\n",
    "import numpy as np\n",
    "import pandas as pd\n",
    "import matplotlib.pyplot as plt\n",
    "from ipywidgets import interact, IntSlider\n",
    "plt.rcParams[\"figure.figsize\"] = (8, 8)\n",
    "plt.rcParams[\"font.size\"] = 14\n",
    "from inference_model import MeanField, DynamicMessagePassing\n",
    "from sir_model import ProximityModel, NetworkModel\n",
    "import networkx as nx\n",
    "from networkx.generators.random_graphs import connected_watts_strogatz_graph, erdos_renyi_graph"
   ]
  },
  {
   "cell_type": "markdown",
   "metadata": {
    "colab_type": "text",
    "id": "F1dRLnJSApw4"
   },
   "source": [
    "## Here is the list of parameters"
   ]
  },
  {
   "cell_type": "code",
   "execution_count": 2,
   "metadata": {
    "colab": {},
    "colab_type": "code",
    "id": "RME8hBKwAonM"
   },
   "outputs": [],
   "source": [
    "N = 4000 #number of individuals\n",
    "N_patient_zero = 20 #number of patients 0\n",
    "scale = 1.0 #scale of the graphs\n",
    "mu = 0.01 # mu -> recover\n",
    "lamb = 0.02 # lamb -> transmission\n",
    "proba_contact = 0.1 # proba that an edge is activated as a contact \n",
    "\n",
    "# seed for reproducibility\n",
    "seed = 878\n",
    "\n",
    "# Testing paramters\n",
    "t_test = 100 # T_TEST IS HERE\n",
    "n_test = 100 \n",
    "tau = 5\n",
    "\n",
    "init_all_susc = 1 # if one, inference starts with all susceptible, otherwise, it starts with the prior\n",
    "using_bp = 0 # if one, use bp, overwise use mean fieldish equations"
   ]
  },
  {
   "cell_type": "code",
   "execution_count": 3,
   "metadata": {
    "colab": {
     "base_uri": "https://localhost:8080/",
     "height": 104
    },
    "colab_type": "code",
    "id": "EYXhbM-cQuSE",
    "outputId": "d3870dfa-179e-4e7e-fcd1-ac91175a4e31"
   },
   "outputs": [
    {
     "name": "stdout",
     "output_type": "stream",
     "text": [
      "Name: \n",
      "Type: Graph\n",
      "Number of nodes: 4000\n",
      "Number of edges: 60000\n",
      "Average degree:  30.0000\n"
     ]
    }
   ],
   "source": [
    "if (using_bp ==0):\n",
    "    MyInferenceModel = MeanField\n",
    "else:\n",
    "    MyInferenceModel = DynamicMessagePassing\n",
    "\n",
    "# creating list of patients 0\n",
    "List_patient_zero = np.random.randint(N, size=N_patient_zero)\n",
    "initial_states = np.zeros(N)\n",
    "initial_states[List_patient_zero] = 1\n",
    "\n",
    "np.random.seed(seed)\n",
    "# generate graph\n",
    "#graph = erdos_renyi_graph(n=N, p=0.01, seed=seed)\n",
    "graph = connected_watts_strogatz_graph(n=N, k=30, p=0.01, seed=seed)\n",
    "layout = nx.random_layout(graph)\n",
    "print(nx.info(graph))"
   ]
  },
  {
   "cell_type": "code",
   "execution_count": 4,
   "metadata": {
    "colab": {
     "base_uri": "https://localhost:8080/",
     "height": 173
    },
    "colab_type": "code",
    "id": "mjQNzzG2UKXc",
    "outputId": "28fe6a44-c4b9-4b15-d5e5-348cf105a736"
   },
   "outputs": [
    {
     "name": "stdout",
     "output_type": "stream",
     "text": [
      "expected number of contacts 3.0 (per time step)\n",
      "Generating transmissions\n",
      "Running simulation\n",
      "t = 0 / 300\n",
      "t = 50 / 300\n",
      "t = 100 / 300\n",
      "t = 150 / 300\n",
      "t = 200 / 300\n",
      "t = 250 / 300\n"
     ]
    }
   ],
   "source": [
    "model =  NetworkModel(\n",
    "    graph=graph, mu=0.01, lamb=0.02, \n",
    "    proba_contact=proba_contact, layout=layout,\n",
    "    initial_states = initial_states\n",
    ")\n",
    "print(\"expected number of contacts %.1f (per time step)\" % model.n_contacts)\n",
    "model.run(300, print_every=50)"
   ]
  },
  {
   "cell_type": "code",
   "execution_count": 5,
   "metadata": {
    "colab": {
     "base_uri": "https://localhost:8080/",
     "height": 265
    },
    "colab_type": "code",
    "id": "33Dq6T2VUVj0",
    "outputId": "d029487a-ebc7-4f58-c811-3bf2389d8c13"
   },
   "outputs": [
    {
     "data": {
      "image/png": "[encoded data removed]",
      "text/plain": [
       "<Figure size 432x288 with 1 Axes>"
      ]
     },
     "metadata": {
      "needs_background": "light"
     },
     "output_type": "display_data"
    }
   ],
   "source": [
    "counts = model.get_counts()\n",
    "counts.plot();"
   ]
  },
  {
   "cell_type": "markdown",
   "metadata": {
    "colab_type": "text",
    "id": "EhmdIho3UhMo"
   },
   "source": [
    "## (Past) Observations\n",
    "\n",
    "Let's say we have done a series of random tests in the past, which gives us our past observations."
   ]
  },
  {
   "cell_type": "code",
   "execution_count": 6,
   "metadata": {
    "colab": {},
    "colab_type": "code",
    "id": "LIEaT-P_UYDI"
   },
   "outputs": [],
   "source": [
    "def generate_observations(model, tests):\n",
    "    observations = []\n",
    "    for t_test, n_test in tests.items():\n",
    "        tested = np.random.choice(model.N, n_test, replace=False)\n",
    "        for i in tested:\n",
    "            obs = dict(i=i, t_test=t_test, s=model.states[t_test,i])\n",
    "            observations.append(obs)\n",
    "    return observations"
   ]
  },
  {
   "cell_type": "code",
   "execution_count": 7,
   "metadata": {
    "colab": {
     "base_uri": "https://localhost:8080/",
     "height": 34
    },
    "colab_type": "code",
    "id": "JDjO80_UUwK_",
    "outputId": "94bbb0c7-9f72-47e4-cabb-62e246f8ac44"
   },
   "outputs": [
    {
     "name": "stdout",
     "output_type": "stream",
     "text": [
      "number of past observations 2450\n"
     ]
    }
   ],
   "source": [
    "tests = {t: t//2 for t in range(t_test)}\n",
    "past_observations = generate_observations(model, tests)\n",
    "print(\"number of past observations\", len(past_observations))"
   ]
  },
  {
   "cell_type": "markdown",
   "metadata": {
    "colab_type": "text",
    "id": "JSvLypEEU172"
   },
   "source": [
    "## Scenario \n",
    "\n",
    "Let's say at time `t_test` we have `n_test` of individuals returned positive to the virus. We have a limited budget of `n_new_test` to perform and we want to efficently target the tests.\n",
    "\n",
    "We compare two testing strategies\n",
    "\n",
    "1. naive contact tracing : say we list all the person that have been in contact with the known infected inviduals\n",
    "2. use inference to estimate the probalities and provide a list of the most probably infected persons\n",
    "\n",
    "Remarks\n",
    "- we don't know when they got infected. Maybe in another scenario we can have an informed estimate of that time (eg based on symptoms or other features). Here will do a coarse approximation and say they were all infected at time t_test - tau, where tau is chosen.\n",
    "- for strategy 1, I don't know the rule for contact tracing. Here we simply list all past contacts of the tested people, say during t_test - tau and t_test, and count the number of encounters."
   ]
  },
  {
   "cell_type": "code",
   "execution_count": 8,
   "metadata": {
    "colab": {
     "base_uri": "https://localhost:8080/",
     "height": 69
    },
    "colab_type": "code",
    "id": "GQuQvXWhUy00",
    "outputId": "c701436f-bebb-46da-9499-314a304db6c1"
   },
   "outputs": [
    {
     "name": "stdout",
     "output_type": "stream",
     "text": [
      "n_last_infected = 452 n_last_tested = 100\n",
      "n_full_tested = 266\n",
      "remaining infected people to detect n_target=260\n"
     ]
    }
   ],
   "source": [
    "# get last infected and tested people\n",
    "last_infected, = np.where(model.states[t_test,:] == 1)\n",
    "last_tested = list(last_infected[:n_test])\n",
    "n_last_infected = len(last_infected)\n",
    "n_last_tested = len(last_tested)\n",
    "print(f\"n_last_infected = {n_last_infected} n_last_tested = {n_last_tested}\")\n",
    "# get past tested people (observed infected in past_observations)\n",
    "past_tested = [obs[\"i\"] for obs in past_observations if obs[\"s\"]==1]\n",
    "full_tested = last_tested + past_tested\n",
    "n_full_tested = len(full_tested)\n",
    "print(f\"n_full_tested = {n_full_tested}\")\n",
    "# targets : last infected people, but not tested yet\n",
    "target = [i for i in last_infected if i not in full_tested]\n",
    "n_target = len(target)\n",
    "print(f\"remaining infected people to detect n_target={n_target}\")\n",
    "if (n_target==0):\n",
    "    raise ValueError(\"Choose other parameters or rerun, no target left to detect\")"
   ]
  },
  {
   "cell_type": "code",
   "execution_count": 9,
   "metadata": {
    "colab": {
     "base_uri": "https://localhost:8080/",
     "height": 104
    },
    "colab_type": "code",
    "id": "QgJPpmYjU5jM",
    "outputId": "eae015f6-d087-44aa-c597-55466acc82dc"
   },
   "outputs": [
    {
     "data": {
      "text/plain": [
       "s\n",
       "0.0    3408\n",
       "1.0     260\n",
       "2.0     117\n",
       "dtype: int64"
      ]
     },
     "execution_count": 9,
     "metadata": {},
     "output_type": "execute_result"
    }
   ],
   "source": [
    "# pool to target : everyone except already tested\n",
    "actual_status = pd.DataFrame(\n",
    "    dict(i=i, s=s, infected=1*(s==1)) \n",
    "    for i, s in enumerate(model.states[t_test])\n",
    "    if i not in full_tested\n",
    ")\n",
    "actual_status.groupby('s').size()"
   ]
  },
  {
   "cell_type": "markdown",
   "metadata": {
    "colab_type": "text",
    "id": "1BPmtzDsVH8e"
   },
   "source": [
    "## Strategy 1 (naive contact tracing)"
   ]
  },
  {
   "cell_type": "code",
   "execution_count": 10,
   "metadata": {
    "colab": {},
    "colab_type": "code",
    "id": "HFtdQX34U_cW"
   },
   "outputs": [
    {
     "data": {
      "text/html": [
       "<div>\n",
       "<style scoped>\n",
       "    .dataframe tbody tr th:only-of-type {\n",
       "        vertical-align: middle;\n",
       "    }\n",
       "\n",
       "    .dataframe tbody tr th {\n",
       "        vertical-align: top;\n",
       "    }\n",
       "\n",
       "    .dataframe thead th {\n",
       "        text-align: right;\n",
       "    }\n",
       "</style>\n",
       "<table border=\"1\" class=\"dataframe\">\n",
       "  <thead>\n",
       "    <tr style=\"text-align: right;\">\n",
       "      <th></th>\n",
       "      <th>i</th>\n",
       "      <th>count</th>\n",
       "      <th>infected</th>\n",
       "      <th>s</th>\n",
       "      <th>rank</th>\n",
       "      <th>total_infected</th>\n",
       "    </tr>\n",
       "  </thead>\n",
       "  <tbody>\n",
       "    <tr>\n",
       "      <th>256</th>\n",
       "      <td>1680</td>\n",
       "      <td>14</td>\n",
       "      <td>0</td>\n",
       "      <td>0.0</td>\n",
       "      <td>0</td>\n",
       "      <td>0</td>\n",
       "    </tr>\n",
       "    <tr>\n",
       "      <th>196</th>\n",
       "      <td>1337</td>\n",
       "      <td>13</td>\n",
       "      <td>0</td>\n",
       "      <td>2.0</td>\n",
       "      <td>1</td>\n",
       "      <td>0</td>\n",
       "    </tr>\n",
       "    <tr>\n",
       "      <th>135</th>\n",
       "      <td>1211</td>\n",
       "      <td>12</td>\n",
       "      <td>0</td>\n",
       "      <td>0.0</td>\n",
       "      <td>2</td>\n",
       "      <td>0</td>\n",
       "    </tr>\n",
       "    <tr>\n",
       "      <th>194</th>\n",
       "      <td>1335</td>\n",
       "      <td>11</td>\n",
       "      <td>0</td>\n",
       "      <td>0.0</td>\n",
       "      <td>3</td>\n",
       "      <td>0</td>\n",
       "    </tr>\n",
       "    <tr>\n",
       "      <th>198</th>\n",
       "      <td>1348</td>\n",
       "      <td>11</td>\n",
       "      <td>0</td>\n",
       "      <td>0.0</td>\n",
       "      <td>4</td>\n",
       "      <td>0</td>\n",
       "    </tr>\n",
       "  </tbody>\n",
       "</table>\n",
       "</div>"
      ],
      "text/plain": [
       "        i  count  infected    s  rank  total_infected\n",
       "256  1680     14         0  0.0     0               0\n",
       "196  1337     13         0  2.0     1               0\n",
       "135  1211     12         0  0.0     2               0\n",
       "194  1335     11         0  0.0     3               0\n",
       "198  1348     11         0  0.0     4               0"
      ]
     },
     "execution_count": 10,
     "metadata": {},
     "output_type": "execute_result"
    }
   ],
   "source": [
    "def csr_to_list(x):\n",
    "    x_coo = x.tocoo()\n",
    "    return zip(x_coo.row, x_coo.col, x_coo.data)\n",
    "\n",
    "# get past contacts of last_tested people\n",
    "contacts = pd.DataFrame(\n",
    "    dict(i=i, j=j, t=t) \n",
    "    for t in range(t_test - tau, t_test)\n",
    "    for i, j, _ in csr_to_list(model.transmissions[t])\n",
    "    if j in last_tested and i not in full_tested\n",
    ")\n",
    "encounters = contacts.groupby(\"i\").size().rename(\"count\").reset_index()\n",
    "encounters = pd.merge(encounters, actual_status, on=\"i\", how=\"inner\")\n",
    "encounters = encounters.sort_values(by=\"count\", ascending=False)\n",
    "encounters[\"rank\"] = range(encounters.shape[0])\n",
    "encounters[\"total_infected\"] = encounters[\"infected\"].cumsum()\n",
    "encounters.head()"
   ]
  },
  {
   "cell_type": "markdown",
   "metadata": {
    "colab_type": "text",
    "id": "xJIcEDrgVOSO"
   },
   "source": [
    "## Strategy 2 (inference)\n",
    "\n",
    "Let's say we start the inference at t_start, and use the actual frequencies \n",
    "as the initial proba."
   ]
  },
  {
   "cell_type": "code",
   "execution_count": 11,
   "metadata": {
    "colab": {},
    "colab_type": "code",
    "id": "6sMN-39TVKml"
   },
   "outputs": [
    {
     "name": "stdout",
     "output_type": "stream",
     "text": [
      "freqs =  [1.0, 0.0, 0.0]\n"
     ]
    }
   ],
   "source": [
    "def generate_initial_probas(states):\n",
    "    \"generate initial proba according to the freq of states\"\n",
    "    freqs = [np.mean(states==s) for s in [0,1,2]]\n",
    "    print(\"freqs = \", freqs)\n",
    "    N = len(states)\n",
    "    initial_probas = np.broadcast_to(freqs, (N, 3)).copy()\n",
    "    return initial_probas\n",
    "\n",
    "#The value of t_start below decides when we initialize the probas\n",
    "t_start=0\n",
    "if (init_all_susc == 1):\n",
    "    initial_probas = generate_initial_probas(states=np.zeros(N))    #INIT ALL SUSCEPTIBLE\n",
    "else:\n",
    "    initial_probas = generate_initial_probas(states=model.states[t_start]) #INIT FROM MODEL\n",
    "\n",
    "infer = MyInferenceModel(initial_probas, model.x_pos, model.y_pos)"
   ]
  },
  {
   "cell_type": "markdown",
   "metadata": {
    "colab_type": "text",
    "id": "fswejyRJVeWM"
   },
   "source": [
    "The observations are the n_test tests at time t_test + past observations."
   ]
  },
  {
   "cell_type": "code",
   "execution_count": 12,
   "metadata": {
    "colab": {},
    "colab_type": "code",
    "id": "zNjbJxy4VQR8"
   },
   "outputs": [
    {
     "data": {
      "image/png": "[encoded data removed]",
      "text/plain": [
       "<Figure size 432x288 with 1 Axes>"
      ]
     },
     "metadata": {
      "needs_background": "light"
     },
     "output_type": "display_data"
    }
   ],
   "source": [
    "last_observations = [dict(i=i, t_test=t_test, s=1) for i in last_tested]\n",
    "observations = past_observations + last_observations\n",
    "for obs in observations:\n",
    "    obs[\"s\"] = int(obs[\"s\"])\n",
    "    obs[\"tau\"] = tau\n",
    "df_full_obs = pd.DataFrame(observations)\n",
    "df_full_obs.groupby([\"t_test\", \"s\"]).size().unstack(\"s\").plot.area(stacked=True);"
   ]
  },
  {
   "cell_type": "markdown",
   "metadata": {
    "colab_type": "text",
    "id": "RSz1fOD0Vj80"
   },
   "source": [
    "**Warning** One must be careful to shift the transmissions and the observations by t_start"
   ]
  },
  {
   "cell_type": "code",
   "execution_count": 13,
   "metadata": {
    "colab": {},
    "colab_type": "code",
    "id": "F3jtggB0VgRs"
   },
   "outputs": [
    {
     "name": "stdout",
     "output_type": "stream",
     "text": [
      "t = 0 / 300\n",
      "t = 50 / 300\n",
      "t = 100 / 300\n",
      "t = 150 / 300\n",
      "t = 200 / 300\n",
      "t = 250 / 300\n"
     ]
    }
   ],
   "source": [
    "transmissions = model.transmissions[t_start:]\n",
    "for obs in observations:\n",
    "    obs[\"t\"] = obs[\"t_test\"]-t_start\n",
    "    obs[\"t_I\"] = obs[\"t\"] - obs[\"tau\"]\n",
    "infer.time_evolution(model.recover_probas, transmissions, observations, print_every=50)"
   ]
  },
  {
   "cell_type": "code",
   "execution_count": 14,
   "metadata": {
    "colab": {},
    "colab_type": "code",
    "id": "3yYlkz7LVlvh"
   },
   "outputs": [
    {
     "data": {
      "text/html": [
       "<div>\n",
       "<style scoped>\n",
       "    .dataframe tbody tr th:only-of-type {\n",
       "        vertical-align: middle;\n",
       "    }\n",
       "\n",
       "    .dataframe tbody tr th {\n",
       "        vertical-align: top;\n",
       "    }\n",
       "\n",
       "    .dataframe thead th {\n",
       "        text-align: right;\n",
       "    }\n",
       "</style>\n",
       "<table border=\"1\" class=\"dataframe\">\n",
       "  <thead>\n",
       "    <tr style=\"text-align: right;\">\n",
       "      <th></th>\n",
       "      <th>i</th>\n",
       "      <th>p</th>\n",
       "      <th>infected</th>\n",
       "      <th>s</th>\n",
       "      <th>rank</th>\n",
       "      <th>total_infected</th>\n",
       "    </tr>\n",
       "  </thead>\n",
       "  <tbody>\n",
       "    <tr>\n",
       "      <th>2892</th>\n",
       "      <td>3051</td>\n",
       "      <td>0.593109</td>\n",
       "      <td>1</td>\n",
       "      <td>1.0</td>\n",
       "      <td>0</td>\n",
       "      <td>1</td>\n",
       "    </tr>\n",
       "    <tr>\n",
       "      <th>2893</th>\n",
       "      <td>3054</td>\n",
       "      <td>0.581840</td>\n",
       "      <td>1</td>\n",
       "      <td>1.0</td>\n",
       "      <td>1</td>\n",
       "      <td>2</td>\n",
       "    </tr>\n",
       "    <tr>\n",
       "      <th>2894</th>\n",
       "      <td>3055</td>\n",
       "      <td>0.578696</td>\n",
       "      <td>1</td>\n",
       "      <td>1.0</td>\n",
       "      <td>2</td>\n",
       "      <td>3</td>\n",
       "    </tr>\n",
       "    <tr>\n",
       "      <th>2896</th>\n",
       "      <td>3060</td>\n",
       "      <td>0.575809</td>\n",
       "      <td>1</td>\n",
       "      <td>1.0</td>\n",
       "      <td>3</td>\n",
       "      <td>4</td>\n",
       "    </tr>\n",
       "    <tr>\n",
       "      <th>2719</th>\n",
       "      <td>2861</td>\n",
       "      <td>0.564665</td>\n",
       "      <td>0</td>\n",
       "      <td>2.0</td>\n",
       "      <td>4</td>\n",
       "      <td>4</td>\n",
       "    </tr>\n",
       "  </tbody>\n",
       "</table>\n",
       "</div>"
      ],
      "text/plain": [
       "         i         p  infected    s  rank  total_infected\n",
       "2892  3051  0.593109         1  1.0     0               1\n",
       "2893  3054  0.581840         1  1.0     1               2\n",
       "2894  3055  0.578696         1  1.0     2               3\n",
       "2896  3060  0.575809         1  1.0     3               4\n",
       "2719  2861  0.564665         0  2.0     4               4"
      ]
     },
     "execution_count": 14,
     "metadata": {},
     "output_type": "execute_result"
    }
   ],
   "source": [
    "# most probably infected\n",
    "probas_I = pd.DataFrame(\n",
    "    dict(i=i, p=p) \n",
    "    for i, p in enumerate(infer.probas[t_test-t_start,:,1])\n",
    "    if i not in full_tested\n",
    ")\n",
    "probas_I = pd.merge(probas_I, actual_status, on=\"i\", how=\"inner\")\n",
    "probas_I = probas_I.sort_values(by=\"p\", ascending=False)\n",
    "probas_I[\"rank\"] = range(probas_I.shape[0])\n",
    "probas_I[\"total_infected\"] = probas_I[\"infected\"].cumsum()\n",
    "probas_I.head()"
   ]
  },
  {
   "cell_type": "markdown",
   "metadata": {
    "colab_type": "text",
    "id": "H88ROMzcVo11"
   },
   "source": [
    "## Comparison"
   ]
  },
  {
   "cell_type": "code",
   "execution_count": 15,
   "metadata": {
    "colab": {},
    "colab_type": "code",
    "id": "zy0miI8AVqg6"
   },
   "outputs": [],
   "source": [
    "def get_random_guess():\n",
    "    random_ranking = [i for i in np.random.permutation(model.N) if i not in full_tested]\n",
    "    df = pd.DataFrame({\"i\": random_ranking})\n",
    "    df[\"rank\"] = range(df.shape[0])\n",
    "    df = pd.merge(df, actual_status, on=\"i\", how=\"inner\")\n",
    "    df = df.sort_values(by=\"rank\")\n",
    "    df[\"total_infected\"] = df[\"infected\"].cumsum()\n",
    "    return df\n",
    "\n",
    "random_guess = get_random_guess()"
   ]
  },
  {
   "cell_type": "code",
   "execution_count": 16,
   "metadata": {
    "colab": {},
    "colab_type": "code",
    "id": "ZMUatxJTVsZ4"
   },
   "outputs": [
    {
     "name": "stdout",
     "output_type": "stream",
     "text": [
      "n_target = 260\n"
     ]
    },
    {
     "data": {
      "image/png": "[encoded data removed]",
      "text/plain": [
       "<Figure size 360x360 with 1 Axes>"
      ]
     },
     "metadata": {
      "needs_background": "light"
     },
     "output_type": "display_data"
    }
   ],
   "source": [
    "print(f\"n_target = {n_target}\")\n",
    "\n",
    "fig, ax = plt.subplots(1,1,figsize=(5,5))\n",
    "probas_I.plot(ax=ax, x=\"rank\", y=\"total_infected\", label=\"inference\")\n",
    "encounters.plot(ax=ax, x=\"rank\", y=\"total_infected\", label=\"tracing\")\n",
    "random_guess.plot(ax=ax, x=\"rank\", y=\"total_infected\", label=\"random\")\n",
    "ax.set(ylabel=\"new infected detected\", xlabel=\"number of tests\")\n",
    "ax.plot([0,n_target], [1,n_target+1])\n",
    "ax.set_xlim(0, n_target);\n",
    "#plt.savefig(\"comparison_npo360_dtinit60\")"
   ]
  },
  {
   "cell_type": "markdown",
   "metadata": {
    "colab_type": "text",
    "id": "BZ1oO_73Vzzp"
   },
   "source": [
    "## Counts estimated vs actual"
   ]
  },
  {
   "cell_type": "code",
   "execution_count": 17,
   "metadata": {
    "colab": {},
    "colab_type": "code",
    "id": "JA7LO3SXVt-x"
   },
   "outputs": [
    {
     "data": {
      "image/png": "[encoded data removed]",
      "text/plain": [
       "<Figure size 576x288 with 2 Axes>"
      ]
     },
     "metadata": {
      "needs_background": "light"
     },
     "output_type": "display_data"
    }
   ],
   "source": [
    "fig, axs = plt.subplots(1,2,figsize=(8,4),sharey=True)\n",
    "counts_est = infer.get_counts()\n",
    "counts_est.index += t_start\n",
    "counts_est.plot(ax=axs[0])\n",
    "axs[0].set_title(\"estimated\")\n",
    "counts[t_start:t_test].plot(ax=axs[1])\n",
    "axs[1].set_title(\"actual\")\n",
    "fig.tight_layout()"
   ]
  },
  {
   "cell_type": "code",
   "execution_count": 18,
   "metadata": {
    "colab": {},
    "colab_type": "code",
    "id": "pL279isgV1Rn"
   },
   "outputs": [],
   "source": [
    "assert np.allclose(infer.probas.sum(axis=2),1)\n",
    "assert infer.probas.min()>=0\n",
    "assert infer.probas.max()<=1"
   ]
  },
  {
   "cell_type": "markdown",
   "metadata": {
    "colab_type": "text",
    "id": "Cpelx25VV39T"
   },
   "source": [
    "## Tables"
   ]
  },
  {
   "cell_type": "code",
   "execution_count": 19,
   "metadata": {
    "colab": {},
    "colab_type": "code",
    "id": "DX4nGsiNV2sH"
   },
   "outputs": [
    {
     "name": "stdout",
     "output_type": "stream",
     "text": [
      "n_full_tested = 266, n_last_infected=452, n_untested=3734\n"
     ]
    }
   ],
   "source": [
    "n_untested = model.N - n_full_tested\n",
    "print(f\"n_full_tested = {n_full_tested}, n_last_infected={n_last_infected}, n_untested={n_untested}\")"
   ]
  },
  {
   "cell_type": "code",
   "execution_count": 20,
   "metadata": {
    "colab": {},
    "colab_type": "code",
    "id": "xgsCL2fgV6v9"
   },
   "outputs": [],
   "source": [
    "def time_evo_proba(i):\n",
    "    evo = pd.DataFrame(infer.probas[:,i,:], columns=[\"S\",\"I\",\"R\"])\n",
    "    evo.index.name=\"t\"\n",
    "    evo.plot(title=f\"i={i}\");"
   ]
  },
  {
   "cell_type": "code",
   "execution_count": 21,
   "metadata": {
    "colab": {},
    "colab_type": "code",
    "id": "h53Sh4bXV9Hq"
   },
   "outputs": [
    {
     "data": {
      "text/html": [
       "<div>\n",
       "<style scoped>\n",
       "    .dataframe tbody tr th:only-of-type {\n",
       "        vertical-align: middle;\n",
       "    }\n",
       "\n",
       "    .dataframe tbody tr th {\n",
       "        vertical-align: top;\n",
       "    }\n",
       "\n",
       "    .dataframe thead th {\n",
       "        text-align: right;\n",
       "    }\n",
       "</style>\n",
       "<table border=\"1\" class=\"dataframe\">\n",
       "  <thead>\n",
       "    <tr style=\"text-align: right;\">\n",
       "      <th></th>\n",
       "      <th>i</th>\n",
       "      <th>count</th>\n",
       "      <th>infected</th>\n",
       "      <th>s</th>\n",
       "      <th>rank_1</th>\n",
       "      <th>total_infected_1</th>\n",
       "      <th>p</th>\n",
       "      <th>rank_2</th>\n",
       "      <th>total_infected_2</th>\n",
       "    </tr>\n",
       "  </thead>\n",
       "  <tbody>\n",
       "    <tr>\n",
       "      <th>0</th>\n",
       "      <td>1680</td>\n",
       "      <td>14</td>\n",
       "      <td>0</td>\n",
       "      <td>0.0</td>\n",
       "      <td>0</td>\n",
       "      <td>0</td>\n",
       "      <td>0.406838</td>\n",
       "      <td>111</td>\n",
       "      <td>61</td>\n",
       "    </tr>\n",
       "    <tr>\n",
       "      <th>1</th>\n",
       "      <td>1337</td>\n",
       "      <td>13</td>\n",
       "      <td>0</td>\n",
       "      <td>2.0</td>\n",
       "      <td>1</td>\n",
       "      <td>0</td>\n",
       "      <td>0.332066</td>\n",
       "      <td>205</td>\n",
       "      <td>105</td>\n",
       "    </tr>\n",
       "    <tr>\n",
       "      <th>2</th>\n",
       "      <td>1211</td>\n",
       "      <td>12</td>\n",
       "      <td>0</td>\n",
       "      <td>0.0</td>\n",
       "      <td>2</td>\n",
       "      <td>0</td>\n",
       "      <td>0.086456</td>\n",
       "      <td>728</td>\n",
       "      <td>231</td>\n",
       "    </tr>\n",
       "    <tr>\n",
       "      <th>3</th>\n",
       "      <td>1335</td>\n",
       "      <td>11</td>\n",
       "      <td>0</td>\n",
       "      <td>0.0</td>\n",
       "      <td>3</td>\n",
       "      <td>0</td>\n",
       "      <td>0.311167</td>\n",
       "      <td>228</td>\n",
       "      <td>117</td>\n",
       "    </tr>\n",
       "    <tr>\n",
       "      <th>4</th>\n",
       "      <td>1348</td>\n",
       "      <td>11</td>\n",
       "      <td>0</td>\n",
       "      <td>0.0</td>\n",
       "      <td>4</td>\n",
       "      <td>0</td>\n",
       "      <td>0.263618</td>\n",
       "      <td>289</td>\n",
       "      <td>139</td>\n",
       "    </tr>\n",
       "    <tr>\n",
       "      <th>5</th>\n",
       "      <td>1357</td>\n",
       "      <td>10</td>\n",
       "      <td>0</td>\n",
       "      <td>0.0</td>\n",
       "      <td>5</td>\n",
       "      <td>0</td>\n",
       "      <td>0.252120</td>\n",
       "      <td>305</td>\n",
       "      <td>147</td>\n",
       "    </tr>\n",
       "    <tr>\n",
       "      <th>6</th>\n",
       "      <td>1350</td>\n",
       "      <td>10</td>\n",
       "      <td>0</td>\n",
       "      <td>2.0</td>\n",
       "      <td>6</td>\n",
       "      <td>0</td>\n",
       "      <td>0.214759</td>\n",
       "      <td>383</td>\n",
       "      <td>165</td>\n",
       "    </tr>\n",
       "    <tr>\n",
       "      <th>7</th>\n",
       "      <td>1223</td>\n",
       "      <td>9</td>\n",
       "      <td>0</td>\n",
       "      <td>2.0</td>\n",
       "      <td>7</td>\n",
       "      <td>0</td>\n",
       "      <td>0.383236</td>\n",
       "      <td>142</td>\n",
       "      <td>73</td>\n",
       "    </tr>\n",
       "    <tr>\n",
       "      <th>8</th>\n",
       "      <td>1201</td>\n",
       "      <td>9</td>\n",
       "      <td>0</td>\n",
       "      <td>0.0</td>\n",
       "      <td>8</td>\n",
       "      <td>0</td>\n",
       "      <td>0.329829</td>\n",
       "      <td>207</td>\n",
       "      <td>105</td>\n",
       "    </tr>\n",
       "    <tr>\n",
       "      <th>9</th>\n",
       "      <td>1338</td>\n",
       "      <td>9</td>\n",
       "      <td>0</td>\n",
       "      <td>0.0</td>\n",
       "      <td>9</td>\n",
       "      <td>0</td>\n",
       "      <td>0.232274</td>\n",
       "      <td>345</td>\n",
       "      <td>157</td>\n",
       "    </tr>\n",
       "    <tr>\n",
       "      <th>10</th>\n",
       "      <td>1198</td>\n",
       "      <td>9</td>\n",
       "      <td>0</td>\n",
       "      <td>2.0</td>\n",
       "      <td>10</td>\n",
       "      <td>0</td>\n",
       "      <td>0.326646</td>\n",
       "      <td>214</td>\n",
       "      <td>109</td>\n",
       "    </tr>\n",
       "    <tr>\n",
       "      <th>11</th>\n",
       "      <td>1193</td>\n",
       "      <td>8</td>\n",
       "      <td>0</td>\n",
       "      <td>0.0</td>\n",
       "      <td>11</td>\n",
       "      <td>0</td>\n",
       "      <td>0.249076</td>\n",
       "      <td>309</td>\n",
       "      <td>149</td>\n",
       "    </tr>\n",
       "    <tr>\n",
       "      <th>12</th>\n",
       "      <td>1681</td>\n",
       "      <td>8</td>\n",
       "      <td>0</td>\n",
       "      <td>0.0</td>\n",
       "      <td>12</td>\n",
       "      <td>0</td>\n",
       "      <td>0.176288</td>\n",
       "      <td>472</td>\n",
       "      <td>184</td>\n",
       "    </tr>\n",
       "    <tr>\n",
       "      <th>13</th>\n",
       "      <td>1696</td>\n",
       "      <td>8</td>\n",
       "      <td>0</td>\n",
       "      <td>0.0</td>\n",
       "      <td>13</td>\n",
       "      <td>0</td>\n",
       "      <td>0.117800</td>\n",
       "      <td>627</td>\n",
       "      <td>220</td>\n",
       "    </tr>\n",
       "    <tr>\n",
       "      <th>14</th>\n",
       "      <td>1317</td>\n",
       "      <td>8</td>\n",
       "      <td>0</td>\n",
       "      <td>0.0</td>\n",
       "      <td>14</td>\n",
       "      <td>0</td>\n",
       "      <td>0.226132</td>\n",
       "      <td>359</td>\n",
       "      <td>158</td>\n",
       "    </tr>\n",
       "    <tr>\n",
       "      <th>15</th>\n",
       "      <td>1376</td>\n",
       "      <td>8</td>\n",
       "      <td>0</td>\n",
       "      <td>0.0</td>\n",
       "      <td>15</td>\n",
       "      <td>0</td>\n",
       "      <td>0.242391</td>\n",
       "      <td>322</td>\n",
       "      <td>152</td>\n",
       "    </tr>\n",
       "    <tr>\n",
       "      <th>16</th>\n",
       "      <td>1336</td>\n",
       "      <td>8</td>\n",
       "      <td>0</td>\n",
       "      <td>2.0</td>\n",
       "      <td>16</td>\n",
       "      <td>0</td>\n",
       "      <td>0.242708</td>\n",
       "      <td>321</td>\n",
       "      <td>152</td>\n",
       "    </tr>\n",
       "    <tr>\n",
       "      <th>17</th>\n",
       "      <td>1359</td>\n",
       "      <td>8</td>\n",
       "      <td>0</td>\n",
       "      <td>0.0</td>\n",
       "      <td>17</td>\n",
       "      <td>0</td>\n",
       "      <td>0.229522</td>\n",
       "      <td>354</td>\n",
       "      <td>158</td>\n",
       "    </tr>\n",
       "    <tr>\n",
       "      <th>18</th>\n",
       "      <td>1157</td>\n",
       "      <td>8</td>\n",
       "      <td>0</td>\n",
       "      <td>0.0</td>\n",
       "      <td>18</td>\n",
       "      <td>0</td>\n",
       "      <td>0.241287</td>\n",
       "      <td>327</td>\n",
       "      <td>152</td>\n",
       "    </tr>\n",
       "    <tr>\n",
       "      <th>19</th>\n",
       "      <td>1365</td>\n",
       "      <td>8</td>\n",
       "      <td>0</td>\n",
       "      <td>2.0</td>\n",
       "      <td>19</td>\n",
       "      <td>0</td>\n",
       "      <td>0.000000</td>\n",
       "      <td>3758</td>\n",
       "      <td>260</td>\n",
       "    </tr>\n",
       "  </tbody>\n",
       "</table>\n",
       "</div>"
      ],
      "text/plain": [
       "       i  count  infected    s  rank_1  total_infected_1         p  rank_2  \\\n",
       "0   1680     14         0  0.0       0                 0  0.406838     111   \n",
       "1   1337     13         0  2.0       1                 0  0.332066     205   \n",
       "2   1211     12         0  0.0       2                 0  0.086456     728   \n",
       "3   1335     11         0  0.0       3                 0  0.311167     228   \n",
       "4   1348     11         0  0.0       4                 0  0.263618     289   \n",
       "5   1357     10         0  0.0       5                 0  0.252120     305   \n",
       "6   1350     10         0  2.0       6                 0  0.214759     383   \n",
       "7   1223      9         0  2.0       7                 0  0.383236     142   \n",
       "8   1201      9         0  0.0       8                 0  0.329829     207   \n",
       "9   1338      9         0  0.0       9                 0  0.232274     345   \n",
       "10  1198      9         0  2.0      10                 0  0.326646     214   \n",
       "11  1193      8         0  0.0      11                 0  0.249076     309   \n",
       "12  1681      8         0  0.0      12                 0  0.176288     472   \n",
       "13  1696      8         0  0.0      13                 0  0.117800     627   \n",
       "14  1317      8         0  0.0      14                 0  0.226132     359   \n",
       "15  1376      8         0  0.0      15                 0  0.242391     322   \n",
       "16  1336      8         0  2.0      16                 0  0.242708     321   \n",
       "17  1359      8         0  0.0      17                 0  0.229522     354   \n",
       "18  1157      8         0  0.0      18                 0  0.241287     327   \n",
       "19  1365      8         0  2.0      19                 0  0.000000    3758   \n",
       "\n",
       "    total_infected_2  \n",
       "0                 61  \n",
       "1                105  \n",
       "2                231  \n",
       "3                117  \n",
       "4                139  \n",
       "5                147  \n",
       "6                165  \n",
       "7                 73  \n",
       "8                105  \n",
       "9                157  \n",
       "10               109  \n",
       "11               149  \n",
       "12               184  \n",
       "13               220  \n",
       "14               158  \n",
       "15               152  \n",
       "16               152  \n",
       "17               158  \n",
       "18               152  \n",
       "19               260  "
      ]
     },
     "execution_count": 21,
     "metadata": {},
     "output_type": "execute_result"
    }
   ],
   "source": [
    "merged = pd.merge(encounters, probas_I, on=[\"i\",\"infected\",\"s\"], how=\"inner\",suffixes=[\"_1\",\"_2\"])\n",
    "merged.sort_values(by=\"rank_1\").head(20)"
   ]
  },
  {
   "cell_type": "code",
   "execution_count": 22,
   "metadata": {
    "colab": {},
    "colab_type": "code",
    "id": "taoeU8ykV_JO"
   },
   "outputs": [
    {
     "data": {
      "image/png": "[encoded data removed]",
      "text/plain": [
       "<Figure size 432x288 with 1 Axes>"
      ]
     },
     "metadata": {
      "needs_background": "light"
     },
     "output_type": "display_data"
    }
   ],
   "source": [
    "import seaborn as sns\n",
    "sns.boxplot(x=\"count\", y=\"p\", data=merged);"
   ]
  },
  {
   "cell_type": "code",
   "execution_count": null,
   "metadata": {
    "colab": {},
    "colab_type": "code",
    "id": "m9hlB6tJWDCJ"
   },
   "outputs": [],
   "source": []
  }
 ],
 "metadata": {
  "colab": {
   "collapsed_sections": [],
   "name": "SIRinference_with_observation.ipynb",
   "provenance": []
  },
  "kernelspec": {
   "display_name": "Python 3",
   "language": "python",
   "name": "python3"
  },
  "language_info": {
   "codemirror_mode": {
    "name": "ipython",
    "version": 3
   },
   "file_extension": ".py",
   "mimetype": "text/x-python",
   "name": "python",
   "nbconvert_exporter": "python",
   "pygments_lexer": "ipython3",
   "version": "3.7.3"
  },
  "toc": {
   "base_numbering": 1,
   "nav_menu": {},
   "number_sections": true,
   "sideBar": true,
   "skip_h1_title": false,
   "title_cell": "Table of Contents",
   "title_sidebar": "Contents",
   "toc_cell": false,
   "toc_position": {},
   "toc_section_display": true,
   "toc_window_display": false
  }
 },
 "nbformat": 4,
 "nbformat_minor": 1
}
