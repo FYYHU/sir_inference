{
 "cells": [
  {
   "cell_type": "markdown",
   "metadata": {},
   "source": [
    "# Testing strategy\n",
    "\n",
    "## SIR Model"
   ]
  },
  {
   "cell_type": "code",
   "execution_count": 1,
   "metadata": {},
   "outputs": [],
   "source": [
    "import numpy as np\n",
    "import pandas as pd\n",
    "import matplotlib.pyplot as plt\n",
    "from scipy.spatial.distance import pdist, squareform\n",
    "%matplotlib inline\n",
    "from sir_inference.inference_model import InferenceModel\n",
    "from sir_inference.sir_model import ProximityModel\n",
    "from ipywidgets import interact, IntSlider"
   ]
  },
  {
   "cell_type": "code",
   "execution_count": 2,
   "metadata": {},
   "outputs": [],
   "source": [
    "# seed for reproducibility\n",
    "np.random.seed(878)"
   ]
  },
  {
   "cell_type": "code",
   "execution_count": 3,
   "metadata": {
    "scrolled": true
   },
   "outputs": [],
   "source": [
    "N = 4000 #number of individuals\n",
    "N_patient_zero = 20 #number of patients 0\n",
    "scale = 1.0 #scale of the graphs\n",
    "mu = 0.01 # mu -> recover\n",
    "lamb = 0.02 # lamb -> transmission\n",
    "\n",
    "# creating list of patients 0\n",
    "List_patient_zero = np.random.randint(N, size=N_patient_zero)\n",
    "initial_states = np.zeros(N)\n",
    "initial_states[List_patient_zero] = 1"
   ]
  },
  {
   "cell_type": "code",
   "execution_count": 4,
   "metadata": {},
   "outputs": [
    {
     "name": "stdout",
     "output_type": "stream",
     "text": [
      "expected number of contacts 6.0\n",
      "Generating transmissions\n",
      "Running simulation\n",
      "t = 0 / 300\n",
      "t = 50 / 300\n",
      "t = 100 / 300\n",
      "t = 150 / 300\n",
      "t = 200 / 300\n",
      "t = 250 / 300\n"
     ]
    }
   ],
   "source": [
    "model = ProximityModel(N, scale, mu, lamb, initial_states)\n",
    "print(\"expected number of contacts %.1f\" % model.n_contacts)\n",
    "model.run(300, print_every=50)"
   ]
  },
  {
   "cell_type": "code",
   "execution_count": 5,
   "metadata": {
    "scrolled": false
   },
   "outputs": [
    {
     "data": {
      "image/png": "[encoded data removed]",
      "text/plain": [
       "<Figure size 432x288 with 1 Axes>"
      ]
     },
     "metadata": {
      "needs_background": "light"
     },
     "output_type": "display_data"
    }
   ],
   "source": [
    "counts = model.get_counts()\n",
    "counts.plot();"
   ]
  },
  {
   "cell_type": "markdown",
   "metadata": {},
   "source": [
    "## (Past) Observations\n",
    "\n",
    "Let's say we have done a series of random tests in the past, which gives us our past observations."
   ]
  },
  {
   "cell_type": "code",
   "execution_count": 6,
   "metadata": {},
   "outputs": [],
   "source": [
    "def generate_observations(model, tests):\n",
    "    observations = []\n",
    "    for t_test, n_test in tests.items():\n",
    "        tested = np.random.choice(model.N, n_test, replace=False)\n",
    "        for i in tested:\n",
    "            obs = dict(i=i, t_test=t_test, s=model.states[t_test,i])\n",
    "            observations.append(obs)\n",
    "    return observations"
   ]
  },
  {
   "cell_type": "code",
   "execution_count": 7,
   "metadata": {},
   "outputs": [
    {
     "name": "stdout",
     "output_type": "stream",
     "text": [
      "number of past observations 600\n"
     ]
    }
   ],
   "source": [
    "t_test = 50 # T_TEST IS HERE\n",
    "tests = {t: t//2 for t in range(t_test)}\n",
    "past_observations = generate_observations(model, tests)\n",
    "print(\"number of past observations\", len(past_observations))"
   ]
  },
  {
   "cell_type": "markdown",
   "metadata": {},
   "source": [
    "## Scenario \n",
    "\n",
    "Let's say at time `t_test` we have `n_test` of individuals returned positive to the virus. We have a limited budget of `n_new_test` to perform and we want to efficently target the tests.\n",
    "\n",
    "We compare two testing strategies\n",
    "\n",
    "1. naive contact tracing : say we list all the person that have been in contact with the known infected inviduals\n",
    "2. use inference to estimate the probalities and provide a list of the most probably infected persons\n",
    "\n",
    "Remarks\n",
    "- we don't know when they got infected. Maybe in another scenario we can have an informed estimate of that time (eg based on symptoms or other features). Here will do a coarse approximation and say they were all infected at time t_test - tau, where tau is chosen.\n",
    "- for strategy 1, I don't know the rule for contact tracing. Here we simply list all past contacts of the tested people, say during t_test - tau and t_test, and count the number of encounters."
   ]
  },
  {
   "cell_type": "code",
   "execution_count": null,
   "metadata": {},
   "outputs": [],
   "source": [
    "n_test = 100 \n",
    "tau = 5"
   ]
  },
  {
   "cell_type": "code",
   "execution_count": null,
   "metadata": {},
   "outputs": [],
   "source": [
    "# get last infected and tested people\n",
    "last_infected, = np.where(model.states[t_test,:] == 1)\n",
    "last_tested = list(last_infected[:n_test])\n",
    "n_last_infected = len(last_infected)\n",
    "n_last_tested = len(last_tested)\n",
    "print(f\"n_last_infected = {n_last_infected} n_last_tested = {n_last_tested}\")\n",
    "# get past tested people (observed infected in past_observations)\n",
    "past_tested = [obs[\"i\"] for obs in past_observations if obs[\"s\"]==1]\n",
    "full_tested = last_tested + past_tested\n",
    "n_full_tested = len(full_tested)\n",
    "print(f\"n_full_tested = {n_full_tested}\")\n",
    "# targets : last infected people, but not tested yet\n",
    "target = [i for i in last_infected if i not in full_tested]\n",
    "n_target = len(target)\n",
    "print(f\"remaining infected people to detect n_target={n_target}\")\n",
    "if (n_target==0):\n",
    "    raise ValueError(\"Choose other parameters or rerun, no target left to detect\")"
   ]
  },
  {
   "cell_type": "code",
   "execution_count": null,
   "metadata": {
    "scrolled": true
   },
   "outputs": [],
   "source": [
    "# pool to target : everyone except already tested\n",
    "actual_status = pd.DataFrame(\n",
    "    dict(i=i, s=s, infected=1*(s==1)) \n",
    "    for i, s in enumerate(model.states[t_test])\n",
    "    if i not in full_tested\n",
    ")\n",
    "actual_status.groupby('s').size()"
   ]
  },
  {
   "cell_type": "markdown",
   "metadata": {},
   "source": [
    "## Strategy 1"
   ]
  },
  {
   "cell_type": "code",
   "execution_count": null,
   "metadata": {
    "scrolled": true
   },
   "outputs": [],
   "source": [
    "def csr_to_list(x):\n",
    "    x_coo = x.tocoo()\n",
    "    return zip(x_coo.row, x_coo.col, x_coo.data)\n",
    "\n",
    "# get past contacts of last_tested people\n",
    "contacts = pd.DataFrame(\n",
    "    dict(i=i, j=j, t=t) \n",
    "    for t in range(t_test - tau, t_test)\n",
    "    for i, j, _ in csr_to_list(model.transmissions[t])\n",
    "    if j in last_tested and i not in full_tested\n",
    ")\n",
    "encounters = contacts.groupby(\"i\").size().rename(\"count\").reset_index()\n",
    "encounters = pd.merge(encounters, actual_status, on=\"i\", how=\"inner\")\n",
    "encounters = encounters.sort_values(by=\"count\", ascending=False)\n",
    "encounters[\"rank\"] = range(encounters.shape[0])\n",
    "encounters[\"total_infected\"] = encounters[\"infected\"].cumsum()\n",
    "encounters.head()"
   ]
  },
  {
   "cell_type": "code",
   "execution_count": null,
   "metadata": {},
   "outputs": [],
   "source": [
    "for t in range(t_test - tau, t_test):\n",
    "    print(\"t=\",t)\n",
    "    for i, j, _ in csr_to_list(model.transmissions[t]):\n",
    "        if (i==151):\n",
    "            if (model.states[t][j]==1):\n",
    "                print(i,j)\n",
    "\n"
   ]
  },
  {
   "cell_type": "markdown",
   "metadata": {},
   "source": [
    "## Strategy 2\n",
    "\n",
    "Let's say we start the inference at t_start, and use the actual frequencies \n",
    "as the initial proba."
   ]
  },
  {
   "cell_type": "code",
   "execution_count": null,
   "metadata": {},
   "outputs": [],
   "source": [
    "def generate_initial_probas(states):\n",
    "    \"generate initial proba according to the freq of states\"\n",
    "    freqs = [np.mean(states==s) for s in [0,1,2]]\n",
    "    print(\"freqs = \", freqs)\n",
    "    N = len(states)\n",
    "    initial_probas = np.broadcast_to(freqs, (N, 3)).copy()\n",
    "    return initial_probas\n",
    "\n",
    "#The value of t_start below decides when we initialize the probas\n",
    "t_start=0\n",
    "initial_probas = generate_initial_probas(states=np.zeros(N))\n",
    "#initial_probas = generate_initial_probas(states=model.states[t_start])\n",
    "infer = InferenceModel(initial_probas, model.x_pos, model.y_pos)"
   ]
  },
  {
   "cell_type": "markdown",
   "metadata": {},
   "source": [
    "The observations are the n_test tests at time t_test + past observations."
   ]
  },
  {
   "cell_type": "code",
   "execution_count": null,
   "metadata": {},
   "outputs": [],
   "source": [
    "last_observations = [dict(i=i, t_test=t_test, s=1) for i in last_tested]\n",
    "observations = past_observations + last_observations\n",
    "for obs in observations:\n",
    "    obs[\"s\"] = int(obs[\"s\"])\n",
    "    obs[\"tau\"] = tau\n",
    "df_full_obs = pd.DataFrame(observations)\n",
    "df_full_obs.groupby([\"t_test\", \"s\"]).size().unstack(\"s\").plot.area(stacked=True);"
   ]
  },
  {
   "cell_type": "markdown",
   "metadata": {},
   "source": [
    "**Warning** One must be careful to shift the transmissions and the observations by t_start"
   ]
  },
  {
   "cell_type": "code",
   "execution_count": null,
   "metadata": {},
   "outputs": [],
   "source": [
    "transmissions = model.transmissions[t_start:]\n",
    "for obs in observations:\n",
    "    obs[\"t\"] = obs[\"t_test\"]-t_start\n",
    "    obs[\"t_I\"] = obs[\"t\"] - obs[\"tau\"]\n",
    "infer.time_evolution(model.recover_probas, transmissions, observations, print_every=100)"
   ]
  },
  {
   "cell_type": "code",
   "execution_count": null,
   "metadata": {},
   "outputs": [],
   "source": [
    "# most probably infected\n",
    "probas_I = pd.DataFrame(\n",
    "    dict(i=i, p=p) \n",
    "    for i, p in enumerate(infer.probas[t_test-t_start,:,1])\n",
    "    if i not in full_tested\n",
    ")\n",
    "probas_I = pd.merge(probas_I, actual_status, on=\"i\", how=\"inner\")\n",
    "probas_I = probas_I.sort_values(by=\"p\", ascending=False)\n",
    "probas_I[\"rank\"] = range(probas_I.shape[0])\n",
    "probas_I[\"total_infected\"] = probas_I[\"infected\"].cumsum()\n",
    "probas_I.head()"
   ]
  },
  {
   "cell_type": "markdown",
   "metadata": {},
   "source": [
    "## Comparison"
   ]
  },
  {
   "cell_type": "code",
   "execution_count": null,
   "metadata": {},
   "outputs": [],
   "source": [
    "def get_random_guess():\n",
    "    random_ranking = [i for i in np.random.permutation(model.N) if i not in full_tested]\n",
    "    df = pd.DataFrame({\"i\": random_ranking})\n",
    "    df[\"rank\"] = range(df.shape[0])\n",
    "    df = pd.merge(df, actual_status, on=\"i\", how=\"inner\")\n",
    "    df = df.sort_values(by=\"rank\")\n",
    "    df[\"total_infected\"] = df[\"infected\"].cumsum()\n",
    "    return df\n",
    "\n",
    "random_guess = get_random_guess()"
   ]
  },
  {
   "cell_type": "code",
   "execution_count": null,
   "metadata": {},
   "outputs": [],
   "source": [
    "print(f\"n_target = {n_target}\")\n",
    "\n",
    "fig, ax = plt.subplots(1,1,figsize=(5,5))\n",
    "probas_I.plot(ax=ax, x=\"rank\", y=\"total_infected\", label=\"inference\")\n",
    "encounters.plot(ax=ax, x=\"rank\", y=\"total_infected\", label=\"tracing\")\n",
    "random_guess.plot(ax=ax, x=\"rank\", y=\"total_infected\", label=\"random\")\n",
    "ax.set(ylabel=\"new infected detected\", xlabel=\"number of tests\")\n",
    "ax.plot([0,n_target], [1,n_target+1])\n",
    "ax.set_xlim(0, n_target);\n",
    "plt.savefig(\"comparison_npo360_dtinit60\")"
   ]
  },
  {
   "cell_type": "markdown",
   "metadata": {},
   "source": [
    "## Counts est vs actual"
   ]
  },
  {
   "cell_type": "code",
   "execution_count": null,
   "metadata": {},
   "outputs": [],
   "source": [
    "fig, axs = plt.subplots(1,2,figsize=(8,4),sharey=True)\n",
    "counts_est = infer.get_counts()\n",
    "counts_est.index += t_start\n",
    "counts_est.plot(ax=axs[0])\n",
    "axs[0].set_title(\"estimated\")\n",
    "counts[t_start:t_test].plot(ax=axs[1])\n",
    "axs[1].set_title(\"actual\")\n",
    "fig.tight_layout()"
   ]
  },
  {
   "cell_type": "code",
   "execution_count": null,
   "metadata": {},
   "outputs": [],
   "source": [
    "assert np.allclose(infer.probas.sum(axis=2),1)\n",
    "assert infer.probas.min()>=0\n",
    "assert infer.probas.max()<=1"
   ]
  },
  {
   "cell_type": "markdown",
   "metadata": {},
   "source": [
    "## Tables"
   ]
  },
  {
   "cell_type": "code",
   "execution_count": null,
   "metadata": {},
   "outputs": [],
   "source": [
    "n_untested = model.N - n_full_tested\n",
    "print(f\"n_full_tested = {n_full_tested}, n_last_infected={n_last_infected}, n_untested={n_untested}\")"
   ]
  },
  {
   "cell_type": "code",
   "execution_count": null,
   "metadata": {},
   "outputs": [],
   "source": [
    "def time_evo_proba(i):\n",
    "    evo = pd.DataFrame(infer.probas[:,i,:], columns=[\"S\",\"I\",\"R\"])\n",
    "    evo.index.name=\"t\"\n",
    "    evo.plot(title=f\"i={i}\");"
   ]
  },
  {
   "cell_type": "code",
   "execution_count": null,
   "metadata": {},
   "outputs": [],
   "source": [
    "time_evo_proba(3359)"
   ]
  },
  {
   "cell_type": "code",
   "execution_count": null,
   "metadata": {},
   "outputs": [],
   "source": [
    "merged = pd.merge(encounters, probas_I, on=[\"i\",\"infected\",\"s\"], how=\"inner\",suffixes=[\"_1\",\"_2\"])\n",
    "merged.sort_values(by=\"rank_1\").head(20)"
   ]
  },
  {
   "cell_type": "code",
   "execution_count": null,
   "metadata": {},
   "outputs": [],
   "source": [
    "import seaborn as sns\n",
    "sns.boxplot(x=\"count\", y=\"p\", data=merged);"
   ]
  },
  {
   "cell_type": "code",
   "execution_count": null,
   "metadata": {},
   "outputs": [],
   "source": [
    "merged.iloc[0:10].mean()"
   ]
  },
  {
   "cell_type": "code",
   "execution_count": null,
   "metadata": {},
   "outputs": [],
   "source": [
    "merged.head()"
   ]
  },
  {
   "cell_type": "code",
   "execution_count": null,
   "metadata": {},
   "outputs": [],
   "source": [
    "id_=3523"
   ]
  },
  {
   "cell_type": "code",
   "execution_count": null,
   "metadata": {},
   "outputs": [],
   "source": [
    "infer.probas[t_test-t_start][id_]"
   ]
  },
  {
   "cell_type": "code",
   "execution_count": null,
   "metadata": {},
   "outputs": [],
   "source": [
    "prob_in_time = []\n",
    "times = [] \n",
    "for o in range(20):\n",
    "    print(o,\" \",infer.probas[t_test-t_start-o][id_])\n",
    "    prob_in_time.append(infer.probas[t_test-t_start-o][id_][1])\n",
    "    times.append(20-o)"
   ]
  },
  {
   "cell_type": "code",
   "execution_count": null,
   "metadata": {},
   "outputs": [],
   "source": [
    "plt.plot(times,prob_in_time,'*-')"
   ]
  },
  {
   "cell_type": "code",
   "execution_count": null,
   "metadata": {},
   "outputs": [],
   "source": []
  },
  {
   "cell_type": "code",
   "execution_count": null,
   "metadata": {},
   "outputs": [],
   "source": []
  }
 ],
 "metadata": {
  "kernelspec": {
   "display_name": "Python 3",
   "language": "python",
   "name": "python3"
  },
  "language_info": {
   "codemirror_mode": {
    "name": "ipython",
    "version": 3
   },
   "file_extension": ".py",
   "mimetype": "text/x-python",
   "name": "python",
   "nbconvert_exporter": "python",
   "pygments_lexer": "ipython3",
   "version": "3.7.5"
  },
  "toc": {
   "base_numbering": 1,
   "nav_menu": {},
   "number_sections": true,
   "sideBar": true,
   "skip_h1_title": false,
   "title_cell": "Table of Contents",
   "title_sidebar": "Contents",
   "toc_cell": false,
   "toc_position": {},
   "toc_section_display": true,
   "toc_window_display": false
  }
 },
 "nbformat": 4,
 "nbformat_minor": 2
}
