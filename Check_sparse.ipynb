{
 "cells": [
  {
   "cell_type": "markdown",
   "metadata": {},
   "source": [
    "# Check sparse implementation"
   ]
  },
  {
   "cell_type": "code",
   "execution_count": 1,
   "metadata": {},
   "outputs": [],
   "source": [
    "import numpy as np\n",
    "from scipy.sparse import coo_matrix, csr_matrix"
   ]
  },
  {
   "cell_type": "markdown",
   "metadata": {},
   "source": [
    "## get_infection_probas in inference_model"
   ]
  },
  {
   "cell_type": "code",
   "execution_count": 2,
   "metadata": {},
   "outputs": [],
   "source": [
    "N = 500\n",
    "i = [0, 1]\n",
    "j = [10, 2]\n",
    "rates = [0.5, 0.8]\n",
    "transmissions_list = list(zip(i, j, rates))\n",
    "transmissions_csr = coo_matrix((rates, (i, j)), shape=(N, N)).tocsr()\n",
    "probas = np.ones((N, 3))/3."
   ]
  },
  {
   "cell_type": "code",
   "execution_count": 3,
   "metadata": {},
   "outputs": [
    {
     "name": "stdout",
     "output_type": "stream",
     "text": [
      "133 µs ± 7.06 µs per loop (mean ± std. dev. of 7 runs, 10000 loops each)\n"
     ]
    }
   ],
   "source": [
    "# coo then csr is faster\n",
    "%timeit transmissions_csr = coo_matrix((rates, (i, j)), shape=(N, N)).tocsr()"
   ]
  },
  {
   "cell_type": "code",
   "execution_count": 4,
   "metadata": {},
   "outputs": [
    {
     "name": "stdout",
     "output_type": "stream",
     "text": [
      "207 µs ± 5.85 µs per loop (mean ± std. dev. of 7 runs, 1000 loops each)\n"
     ]
    }
   ],
   "source": [
    "%timeit transmissions_csr = csr_matrix((rates, (i, j)), shape=(N, N))"
   ]
  },
  {
   "cell_type": "code",
   "execution_count": 5,
   "metadata": {},
   "outputs": [],
   "source": [
    "def get_infection_probas_list(probas, transmissions):\n",
    "    \"\"\"\n",
    "    - probas[i,s] = P_s^i(t)\n",
    "    - transmissions = array/list of i, j, lambda_ij\n",
    "    - infection_probas[i]  = sum_j lambda_ij P_I^j(t)\n",
    "    \"\"\"\n",
    "    N = probas.shape[0]\n",
    "    infection_probas = np.zeros(N)\n",
    "    for i in range(N):\n",
    "        rates = np.array([\n",
    "            probas[j, 1]*rate\n",
    "            for i0, j, rate in transmissions if i0 == i\n",
    "        ])\n",
    "        infection_probas[i] = rates.sum()\n",
    "    return infection_probas"
   ]
  },
  {
   "cell_type": "code",
   "execution_count": 6,
   "metadata": {},
   "outputs": [],
   "source": [
    "def get_infection_probas_fast(probas, transmissions):\n",
    "    \"\"\"\n",
    "    - probas[i,s] = P_s^i(t)\n",
    "    - transmissions = csr sparse matrix of i, j, lambda_ij\n",
    "    - infection_probas[i]  = sum_j lambda_ij P_I^j(t)\n",
    "    \"\"\"\n",
    "    N = probas.shape[0]\n",
    "    infection_probas = transmissions.dot(probas[:, 1])\n",
    "    return infection_probas"
   ]
  },
  {
   "cell_type": "code",
   "execution_count": 7,
   "metadata": {},
   "outputs": [
    {
     "data": {
      "text/plain": [
       "True"
      ]
     },
     "execution_count": 7,
     "metadata": {},
     "output_type": "execute_result"
    }
   ],
   "source": [
    "p_old = get_infection_probas_list(probas, transmissions_list)\n",
    "p_new = get_infection_probas_fast(probas, transmissions_csr)\n",
    "np.all(p_old==p_new)"
   ]
  },
  {
   "cell_type": "code",
   "execution_count": 8,
   "metadata": {},
   "outputs": [
    {
     "name": "stdout",
     "output_type": "stream",
     "text": [
      "2 ms ± 48.9 µs per loop (mean ± std. dev. of 7 runs, 100 loops each)\n"
     ]
    }
   ],
   "source": [
    "%timeit p_old = get_infection_probas_list(probas, transmissions_list)"
   ]
  },
  {
   "cell_type": "code",
   "execution_count": 9,
   "metadata": {},
   "outputs": [
    {
     "name": "stdout",
     "output_type": "stream",
     "text": [
      "7.28 µs ± 42.3 ns per loop (mean ± std. dev. of 7 runs, 100000 loops each)\n"
     ]
    }
   ],
   "source": [
    "%timeit p_new = get_infection_probas_fast(probas, transmissions_csr)"
   ]
  },
  {
   "cell_type": "markdown",
   "metadata": {},
   "source": [
    "## get_infection_probas in sir_model"
   ]
  },
  {
   "cell_type": "code",
   "execution_count": 10,
   "metadata": {},
   "outputs": [],
   "source": [
    "N = 500\n",
    "i = [0, 1, 3, 3]\n",
    "j = [10, 2, 12, 13]\n",
    "rates = [0.5, 0.8, 0.9, 0.6]\n",
    "transmissions_list = list(zip(i, j, rates))\n",
    "transmissions_csr = coo_matrix((rates, (i, j)), shape=(N, N)).tocsr()\n",
    "states = np.ones(N)"
   ]
  },
  {
   "cell_type": "code",
   "execution_count": 11,
   "metadata": {},
   "outputs": [],
   "source": [
    "def get_infection_probas_list(states, transmissions):\n",
    "    \"\"\"\n",
    "    - states[i] = state of i\n",
    "    - transmissions = array/list of i, j, lambda_ij\n",
    "    - infection_probas[i]  = 1 - prod_{j: state==I} [1 - lambda_ij]\n",
    "    \"\"\"\n",
    "    infected = (states == 1)\n",
    "    N = len(states)\n",
    "    infection_probas = np.zeros(N)\n",
    "    for i in range(N):\n",
    "        rates = np.array([\n",
    "            rate for i0, j, rate in transmissions\n",
    "            if i0 == i and infected[j]\n",
    "        ])\n",
    "        infection_probas[i] = 1 - np.prod(1 - rates)\n",
    "    return infection_probas"
   ]
  },
  {
   "cell_type": "code",
   "execution_count": 12,
   "metadata": {},
   "outputs": [],
   "source": [
    "def get_infection_probas_fast(states, transmissions):\n",
    "    \"\"\"\n",
    "    - states[i] = state of i\n",
    "    - transmissions = csr sparse matrix of i, j, lambda_ij\n",
    "    - infection_probas[i]  = 1 - prod_{j: state==I} [1 - lambda_ij]\n",
    "    We use prod_j  [1 - lambda_ij] = exp(sum_j log(1 - lambda_ij)) \n",
    "    \"\"\"\n",
    "    infected = (states == 1)\n",
    "    infected_transmissions = transmissions.multiply(infected)\n",
    "    infection_probas = 1 - np.exp(\n",
    "        infected_transmissions.multiply(-1).log1p().sum(axis=1)\n",
    "    )\n",
    "    infection_probas = np.array(infection_probas).squeeze()\n",
    "    return infection_probas"
   ]
  },
  {
   "cell_type": "code",
   "execution_count": 13,
   "metadata": {},
   "outputs": [
    {
     "data": {
      "text/plain": [
       "True"
      ]
     },
     "execution_count": 13,
     "metadata": {},
     "output_type": "execute_result"
    }
   ],
   "source": [
    "p_old = get_infection_probas_list(states, transmissions_list)\n",
    "p_new = get_infection_probas_fast(states, transmissions_csr)\n",
    "np.all(p_old==p_new)"
   ]
  },
  {
   "cell_type": "code",
   "execution_count": 14,
   "metadata": {},
   "outputs": [
    {
     "name": "stdout",
     "output_type": "stream",
     "text": [
      "i=0 : 0.5\n",
      "i=1 : 0.8\n",
      "i=3 : 0.96\n"
     ]
    }
   ],
   "source": [
    "for x in set(i):\n",
    "    print(f\"i={x} : {p_new[x]}\")"
   ]
  },
  {
   "cell_type": "code",
   "execution_count": 15,
   "metadata": {},
   "outputs": [
    {
     "name": "stdout",
     "output_type": "stream",
     "text": [
      "3.81 ms ± 47.2 µs per loop (mean ± std. dev. of 7 runs, 100 loops each)\n"
     ]
    }
   ],
   "source": [
    "%timeit p_old = get_infection_probas_list(states, transmissions_list)"
   ]
  },
  {
   "cell_type": "code",
   "execution_count": 16,
   "metadata": {},
   "outputs": [
    {
     "name": "stdout",
     "output_type": "stream",
     "text": [
      "450 µs ± 53.9 µs per loop (mean ± std. dev. of 7 runs, 1000 loops each)\n"
     ]
    }
   ],
   "source": [
    "%timeit p_new = get_infection_probas_fast(states, transmissions_csr)"
   ]
  },
  {
   "cell_type": "code",
   "execution_count": null,
   "metadata": {},
   "outputs": [],
   "source": []
  }
 ],
 "metadata": {
  "kernelspec": {
   "display_name": "Python 3",
   "language": "python",
   "name": "python3"
  },
  "language_info": {
   "codemirror_mode": {
    "name": "ipython",
    "version": 3
   },
   "file_extension": ".py",
   "mimetype": "text/x-python",
   "name": "python",
   "nbconvert_exporter": "python",
   "pygments_lexer": "ipython3",
   "version": "3.7.3"
  },
  "toc": {
   "base_numbering": 1,
   "nav_menu": {},
   "number_sections": true,
   "sideBar": true,
   "skip_h1_title": false,
   "title_cell": "Table of Contents",
   "title_sidebar": "Contents",
   "toc_cell": false,
   "toc_position": {},
   "toc_section_display": true,
   "toc_window_display": false
  }
 },
 "nbformat": 4,
 "nbformat_minor": 2
}
