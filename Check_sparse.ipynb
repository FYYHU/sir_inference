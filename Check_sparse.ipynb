{
 "cells": [
  {
   "cell_type": "markdown",
   "metadata": {},
   "source": [
    "# Check sparse implementation"
   ]
  },
  {
   "cell_type": "code",
   "execution_count": 1,
   "metadata": {},
   "outputs": [],
   "source": [
    "import numpy as np\n",
    "from scipy.sparse import coo_matrix, csr_matrix\n",
    "from inference_model import (\n",
    "    sum_contacts, sum_messages, vector_csr, \n",
    "    get_infection_probas_dmp, get_infection_probas_mean_field\n",
    ")\n",
    "from sir_model import get_infection_probas\n",
    "\n",
    "def generate_list_csr(N, nnz):\n",
    "    i = np.random.choice(N, nnz, replace=False)\n",
    "    j = np.random.choice(N, nnz, replace=False)\n",
    "    values = np.random.rand(nnz)\n",
    "    A_list = list(zip(i, j, values))\n",
    "    A_csr = coo_matrix((values, (i, j)), shape=(N, N)).tocsr()\n",
    "    return A_list, A_csr\n",
    "\n",
    "N, nnz = 500, 3\n",
    "transmissions_list, transmissions = generate_list_csr(N, nnz)\n",
    "contacts_list = [(i, j) for (i, j, _) in transmissions_list]\n",
    "contacts = (transmissions!=0)"
   ]
  },
  {
   "cell_type": "markdown",
   "metadata": {},
   "source": [
    "# get_infection_probas (sir)"
   ]
  },
  {
   "cell_type": "code",
   "execution_count": 2,
   "metadata": {},
   "outputs": [],
   "source": [
    "def naive_get_infection_probas(states, transmissions):\n",
    "    \"\"\"\n",
    "    - states[i] = state of i\n",
    "    - transmissions = array/list of i, j, lambda_ij\n",
    "    - infection_probas[i]  = 1 - prod_{j: state==I} [1 - lambda_ij]\n",
    "    \"\"\"\n",
    "    infected = (states == 1)\n",
    "    N = len(states)\n",
    "    infection_probas = np.zeros(N)\n",
    "    for i in range(N):\n",
    "        rates = np.array([\n",
    "            rate for i0, j, rate in transmissions\n",
    "            if i0 == i and infected[j]\n",
    "        ])\n",
    "        infection_probas[i] = 1 - np.prod(1 - rates)\n",
    "    return infection_probas"
   ]
  },
  {
   "cell_type": "code",
   "execution_count": 3,
   "metadata": {},
   "outputs": [],
   "source": [
    "states = np.ones(N)"
   ]
  },
  {
   "cell_type": "code",
   "execution_count": 4,
   "metadata": {},
   "outputs": [
    {
     "name": "stdout",
     "output_type": "stream",
     "text": [
      "[0.12497695 0.8762881  0.85213022]\n",
      "[0.12497695 0.8762881  0.85213022]\n"
     ]
    }
   ],
   "source": [
    "p_old = naive_get_infection_probas(states, transmissions_list)\n",
    "p_new = get_infection_probas(states, transmissions)\n",
    "assert np.allclose(p_old, p_new)\n",
    "print(p_old[p_old>0])\n",
    "print(p_new[p_new>0])"
   ]
  },
  {
   "cell_type": "code",
   "execution_count": 5,
   "metadata": {},
   "outputs": [
    {
     "name": "stdout",
     "output_type": "stream",
     "text": [
      "5.12 ms ± 219 µs per loop (mean ± std. dev. of 7 runs, 100 loops each)\n"
     ]
    }
   ],
   "source": [
    "%timeit p_old = naive_get_infection_probas(states, transmissions_list)"
   ]
  },
  {
   "cell_type": "code",
   "execution_count": 6,
   "metadata": {},
   "outputs": [
    {
     "name": "stdout",
     "output_type": "stream",
     "text": [
      "159 µs ± 9.31 µs per loop (mean ± std. dev. of 7 runs, 10000 loops each)\n"
     ]
    }
   ],
   "source": [
    "%timeit p_new = get_infection_probas(states, transmissions)"
   ]
  },
  {
   "cell_type": "markdown",
   "metadata": {},
   "source": [
    "# get_infection_probas_mean_field"
   ]
  },
  {
   "cell_type": "code",
   "execution_count": 7,
   "metadata": {},
   "outputs": [],
   "source": [
    "i = np.random.choice(N, nnz, replace=False)\n",
    "j = np.random.choice(N, nnz, replace=False)\n",
    "values = np.random.rand(nnz)"
   ]
  },
  {
   "cell_type": "code",
   "execution_count": 8,
   "metadata": {},
   "outputs": [
    {
     "name": "stdout",
     "output_type": "stream",
     "text": [
      "141 µs ± 7.44 µs per loop (mean ± std. dev. of 7 runs, 10000 loops each)\n"
     ]
    }
   ],
   "source": [
    "# coo then csr is faster\n",
    "%timeit coo_matrix((values, (i, j)), shape=(N, N)).tocsr()"
   ]
  },
  {
   "cell_type": "code",
   "execution_count": 9,
   "metadata": {},
   "outputs": [
    {
     "name": "stdout",
     "output_type": "stream",
     "text": [
      "226 µs ± 25.1 µs per loop (mean ± std. dev. of 7 runs, 1000 loops each)\n"
     ]
    }
   ],
   "source": [
    "%timeit csr_matrix((values, (i, j)), shape=(N, N))"
   ]
  },
  {
   "cell_type": "code",
   "execution_count": 10,
   "metadata": {},
   "outputs": [],
   "source": [
    "def naive_get_infection_probas_mean_field(probas, transmissions):\n",
    "    \"\"\"\n",
    "    - probas[i,s] = P_s^i(t)\n",
    "    - transmissions = array/list of i, j, lambda_ij\n",
    "    - infection_probas[i]  = sum_j lambda_ij P_I^j(t)\n",
    "    \"\"\"\n",
    "    N = probas.shape[0]\n",
    "    infection_probas = np.zeros(N)\n",
    "    for i in range(N):\n",
    "        rates = np.array([\n",
    "            probas[j, 1]*rate\n",
    "            for i0, j, rate in transmissions if i0 == i\n",
    "        ])\n",
    "        infection_probas[i] = rates.sum()\n",
    "    return infection_probas"
   ]
  },
  {
   "cell_type": "code",
   "execution_count": 11,
   "metadata": {},
   "outputs": [],
   "source": [
    "probas = np.ones((N, 3))/3."
   ]
  },
  {
   "cell_type": "code",
   "execution_count": 12,
   "metadata": {},
   "outputs": [
    {
     "name": "stdout",
     "output_type": "stream",
     "text": [
      "[0.04165898 0.29209603 0.28404341]\n",
      "[0.04165898 0.29209603 0.28404341]\n"
     ]
    }
   ],
   "source": [
    "p_old = naive_get_infection_probas_mean_field(probas, transmissions_list)\n",
    "p_new = get_infection_probas_mean_field(probas, transmissions)\n",
    "assert np.allclose(p_old, p_new)\n",
    "print(p_old[p_old>0])\n",
    "print(p_new[p_new>0])"
   ]
  },
  {
   "cell_type": "code",
   "execution_count": 13,
   "metadata": {},
   "outputs": [
    {
     "name": "stdout",
     "output_type": "stream",
     "text": [
      "2.92 ms ± 42.8 µs per loop (mean ± std. dev. of 7 runs, 100 loops each)\n"
     ]
    }
   ],
   "source": [
    "%timeit p_old = naive_get_infection_probas_mean_field(probas, transmissions_list)"
   ]
  },
  {
   "cell_type": "code",
   "execution_count": 14,
   "metadata": {},
   "outputs": [
    {
     "name": "stdout",
     "output_type": "stream",
     "text": [
      "7.52 µs ± 50.7 ns per loop (mean ± std. dev. of 7 runs, 100000 loops each)\n"
     ]
    }
   ],
   "source": [
    "%timeit p_new = get_infection_probas_mean_field(probas, transmissions)"
   ]
  },
  {
   "cell_type": "markdown",
   "metadata": {},
   "source": [
    "# sum_contacts"
   ]
  },
  {
   "cell_type": "code",
   "execution_count": 15,
   "metadata": {},
   "outputs": [],
   "source": [
    "def naive_sum_contacts(A, contacts):\n",
    "    \"\"\"\n",
    "    - A : list of i, k, A_ik\n",
    "    - contacts : list of i, k contacts\n",
    "    - a_i = sum_{k in i} A_ik  = sum_k A_ik contacts_ik\n",
    "    \"\"\"\n",
    "    a = np.zeros(N)\n",
    "    for i in range(N):\n",
    "        a[i] = sum(val for i_, k, val in A if (i_, k) in contacts and i_==i)\n",
    "    return a"
   ]
  },
  {
   "cell_type": "code",
   "execution_count": 16,
   "metadata": {},
   "outputs": [
    {
     "name": "stdout",
     "output_type": "stream",
     "text": [
      "[0.12497695 0.8762881  0.85213022]\n",
      "[0.12497695 0.8762881  0.85213022]\n"
     ]
    }
   ],
   "source": [
    "a_old = naive_sum_contacts(transmissions_list, contacts_list)\n",
    "a_new = sum_contacts(transmissions, contacts)\n",
    "assert np.allclose(a_old, a_new)\n",
    "print(a_old[a_old>0])\n",
    "print(a_new[a_new>0])"
   ]
  },
  {
   "cell_type": "code",
   "execution_count": 17,
   "metadata": {},
   "outputs": [
    {
     "name": "stdout",
     "output_type": "stream",
     "text": [
      "903 µs ± 24.9 µs per loop (mean ± std. dev. of 7 runs, 1000 loops each)\n"
     ]
    }
   ],
   "source": [
    "%timeit a_old = naive_sum_contacts(transmissions_list, contacts_list)"
   ]
  },
  {
   "cell_type": "code",
   "execution_count": 18,
   "metadata": {},
   "outputs": [
    {
     "name": "stdout",
     "output_type": "stream",
     "text": [
      "162 µs ± 6.95 µs per loop (mean ± std. dev. of 7 runs, 10000 loops each)\n"
     ]
    }
   ],
   "source": [
    "%timeit a_new = sum_contacts(transmissions, contacts)"
   ]
  },
  {
   "cell_type": "markdown",
   "metadata": {},
   "source": [
    "# sum_messages"
   ]
  },
  {
   "cell_type": "code",
   "execution_count": 19,
   "metadata": {},
   "outputs": [],
   "source": [
    "def naive_sum_messages(A, contacts):\n",
    "    \"\"\"\n",
    "    - A = list of i, k, A_ik\n",
    "    - contacts = list of i, k contacts\n",
    "    - B_ij = sum_{k in j\\i} A_jk  = sum_k A_jk contacts_jk (k != i)\n",
    "    \"\"\"\n",
    "    B = np.zeros((N, N))\n",
    "    for i in range(N):\n",
    "        for j in range(N):\n",
    "            B[i, j] = sum(\n",
    "                val for j_, k, val in A \n",
    "                if (j_, k) in contacts and i!=k and j_==j\n",
    "            )\n",
    "    return B"
   ]
  },
  {
   "cell_type": "code",
   "execution_count": 20,
   "metadata": {},
   "outputs": [],
   "source": [
    "unequal = 1 - np.identity(N)\n",
    "B_old = naive_sum_messages(transmissions_list, contacts_list)\n",
    "B_new = sum_messages(transmissions, contacts)\n",
    "assert np.allclose(B_new.toarray(), B_old)"
   ]
  },
  {
   "cell_type": "code",
   "execution_count": 21,
   "metadata": {},
   "outputs": [
    {
     "name": "stdout",
     "output_type": "stream",
     "text": [
      "623 ms ± 11 ms per loop (mean ± std. dev. of 7 runs, 1 loop each)\n"
     ]
    }
   ],
   "source": [
    "%timeit B_old = naive_sum_messages(transmissions_list, contacts_list)"
   ]
  },
  {
   "cell_type": "code",
   "execution_count": 22,
   "metadata": {},
   "outputs": [
    {
     "name": "stdout",
     "output_type": "stream",
     "text": [
      "3.84 ms ± 198 µs per loop (mean ± std. dev. of 7 runs, 100 loops each)\n"
     ]
    }
   ],
   "source": [
    "%timeit B_new = sum_messages(transmissions, contacts)"
   ]
  },
  {
   "cell_type": "markdown",
   "metadata": {},
   "source": [
    "# vector_csr"
   ]
  },
  {
   "cell_type": "code",
   "execution_count": 23,
   "metadata": {},
   "outputs": [
    {
     "name": "stdout",
     "output_type": "stream",
     "text": [
      "A.nnz 30\n"
     ]
    }
   ],
   "source": [
    "v = np.zeros(10)\n",
    "v[:3] = [4,5,6]\n",
    "A=vector_csr(v)\n",
    "for i in range(A.shape[0]):\n",
    "    for j in range(A.shape[1]):\n",
    "        assert A[i, j] == v[j]\n",
    "print(\"A.nnz\", A.nnz)"
   ]
  },
  {
   "cell_type": "markdown",
   "metadata": {},
   "source": [
    "# Gotcha !\n",
    "\n",
    "In scipy sparse matrix, opposite to numpy, operator $*$ is matrix multiplication, not element wise multiply ! Use `.multiply()` for element-wise multiply."
   ]
  },
  {
   "cell_type": "code",
   "execution_count": 24,
   "metadata": {},
   "outputs": [],
   "source": [
    "N = 100\n",
    "nnz = 3\n",
    "v = np.random.rand(N)\n",
    "A_list, A = generate_list_csr(N, nnz)\n",
    "B_list, B = generate_list_csr(N, nnz)"
   ]
  },
  {
   "cell_type": "code",
   "execution_count": 25,
   "metadata": {},
   "outputs": [],
   "source": [
    "# Av = A.multiply(v) computes Av_ij = A_ij v_j\n",
    "Av = A.multiply(v).tocsr()\n",
    "for i in range(N):\n",
    "    for j in range(N):\n",
    "        assert Av[i, j] == A[i, j]*v[j]"
   ]
  },
  {
   "cell_type": "code",
   "execution_count": 26,
   "metadata": {},
   "outputs": [],
   "source": [
    "AB = A*B\n",
    "AB_array = A.toarray() @ B.toarray()\n",
    "assert np.allclose(AB.toarray(), AB_array)"
   ]
  },
  {
   "cell_type": "code",
   "execution_count": 27,
   "metadata": {},
   "outputs": [],
   "source": [
    "AB = A.multiply(B)\n",
    "AB_array = A.toarray() * B.toarray()\n",
    "assert np.allclose(AB.toarray(), AB_array)"
   ]
  },
  {
   "cell_type": "code",
   "execution_count": null,
   "metadata": {},
   "outputs": [],
   "source": []
  }
 ],
 "metadata": {
  "kernelspec": {
   "display_name": "Python 3",
   "language": "python",
   "name": "python3"
  },
  "language_info": {
   "codemirror_mode": {
    "name": "ipython",
    "version": 3
   },
   "file_extension": ".py",
   "mimetype": "text/x-python",
   "name": "python",
   "nbconvert_exporter": "python",
   "pygments_lexer": "ipython3",
   "version": "3.7.3"
  },
  "toc": {
   "base_numbering": 1,
   "nav_menu": {},
   "number_sections": true,
   "sideBar": true,
   "skip_h1_title": false,
   "title_cell": "Table of Contents",
   "title_sidebar": "Contents",
   "toc_cell": false,
   "toc_position": {},
   "toc_section_display": true,
   "toc_window_display": false
  }
 },
 "nbformat": 4,
 "nbformat_minor": 2
}
