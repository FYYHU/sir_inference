{
 "cells": [
  {
   "cell_type": "markdown",
   "metadata": {},
   "source": [
    "# SIR Model"
   ]
  },
  {
   "cell_type": "code",
   "execution_count": 1,
   "metadata": {},
   "outputs": [],
   "source": [
    "import numpy as np\n",
    "import pandas as pd\n",
    "import matplotlib.pyplot as plt\n",
    "from scipy.spatial.distance import pdist, squareform\n",
    "%matplotlib inline"
   ]
  },
  {
   "cell_type": "markdown",
   "metadata": {},
   "source": [
    "The EpidemicModel class implements the base model. Its method `time_evolution` runs the simulation\n",
    "for given \n",
    "- recover_probas = $\\mu_i(t)$ \n",
    "- transmissions = $\\{i , j, \\lambda_{ij}(t)\\}$ (for i and j in contact at $t$)\n",
    "\n",
    "The ProximityModel class corresponds to a simple model where\n",
    "- recover_probas = $\\mu$ is constant\n",
    "- transmission rate = $\\lambda$ is constant\n",
    "- the contact network changes at each time step\n",
    "- proba of contact = $\\exp(-d(i,j)/s)$"
   ]
  },
  {
   "cell_type": "code",
   "execution_count": 2,
   "metadata": {},
   "outputs": [
    {
     "name": "stdout",
     "output_type": "stream",
     "text": [
      "expected number of contacts 7.4\n",
      "Generating transmissions\n",
      "Running simulation\n",
      "t = 0 / 200\n",
      "t = 100 / 200\n"
     ]
    }
   ],
   "source": [
    "from sir_model import ProximityModel\n",
    "model = ProximityModel(N=200, scale=1.2, mu=0.01, lamb=0.02)\n",
    "print(\"expected number of contacts %.1f\" % model.n_contacts)\n",
    "model.run(200, print_every=100)"
   ]
  },
  {
   "cell_type": "code",
   "execution_count": 3,
   "metadata": {},
   "outputs": [
    {
     "data": {
      "application/vnd.jupyter.widget-view+json": {
       "model_id": "8d1771a61e384c05a63be2a588e36bb8",
       "version_major": 2,
       "version_minor": 0
      },
      "text/plain": [
       "interactive(children=(IntSlider(value=0, description='t'), Output()), _dom_classes=('widget-interact',))"
      ]
     },
     "metadata": {},
     "output_type": "display_data"
    }
   ],
   "source": [
    "from ipywidgets import interact, IntSlider\n",
    "interact(model.plot, t=IntSlider(min=0, max=100));"
   ]
  },
  {
   "cell_type": "code",
   "execution_count": 4,
   "metadata": {},
   "outputs": [
    {
     "data": {
      "image/png": "[encoded data removed]",
      "text/plain": [
       "<Figure size 432x288 with 1 Axes>"
      ]
     },
     "metadata": {
      "needs_background": "light"
     },
     "output_type": "display_data"
    }
   ],
   "source": [
    "counts = model.get_counts()\n",
    "counts.plot()\n",
    "plt.xlim(0,100);"
   ]
  },
  {
   "cell_type": "markdown",
   "metadata": {},
   "source": [
    "# Observations\n",
    "\n",
    "Let's say there are random n_test for each t_test. For simplicity we suppose that the infection time is simply t_test - tau for some constant tau."
   ]
  },
  {
   "cell_type": "code",
   "execution_count": 5,
   "metadata": {},
   "outputs": [],
   "source": [
    "def generate_observations(model, tests, tau):\n",
    "    observations = []\n",
    "    for t_test, n_test in tests.items():\n",
    "        tested = np.random.choice(model.N, n_test, replace=False)\n",
    "        for i in tested:\n",
    "            obs = dict(i=i, t_test=t_test, s=model.states[t_test,i])\n",
    "            if model.states[t_test,i]==1:\n",
    "                obs[\"tau\"] = tau\n",
    "            observations.append(obs)\n",
    "    return observations"
   ]
  },
  {
   "cell_type": "code",
   "execution_count": 6,
   "metadata": {},
   "outputs": [
    {
     "data": {
      "text/html": [
       "<div>\n",
       "<style scoped>\n",
       "    .dataframe tbody tr th:only-of-type {\n",
       "        vertical-align: middle;\n",
       "    }\n",
       "\n",
       "    .dataframe tbody tr th {\n",
       "        vertical-align: top;\n",
       "    }\n",
       "\n",
       "    .dataframe thead th {\n",
       "        text-align: right;\n",
       "    }\n",
       "</style>\n",
       "<table border=\"1\" class=\"dataframe\">\n",
       "  <thead>\n",
       "    <tr style=\"text-align: right;\">\n",
       "      <th></th>\n",
       "      <th>i</th>\n",
       "      <th>s</th>\n",
       "      <th>t_test</th>\n",
       "      <th>tau</th>\n",
       "    </tr>\n",
       "  </thead>\n",
       "  <tbody>\n",
       "    <tr>\n",
       "      <th>0</th>\n",
       "      <td>88</td>\n",
       "      <td>1.0</td>\n",
       "      <td>60</td>\n",
       "      <td>4.0</td>\n",
       "    </tr>\n",
       "    <tr>\n",
       "      <th>1</th>\n",
       "      <td>196</td>\n",
       "      <td>1.0</td>\n",
       "      <td>60</td>\n",
       "      <td>4.0</td>\n",
       "    </tr>\n",
       "    <tr>\n",
       "      <th>2</th>\n",
       "      <td>47</td>\n",
       "      <td>1.0</td>\n",
       "      <td>60</td>\n",
       "      <td>4.0</td>\n",
       "    </tr>\n",
       "    <tr>\n",
       "      <th>3</th>\n",
       "      <td>184</td>\n",
       "      <td>1.0</td>\n",
       "      <td>60</td>\n",
       "      <td>4.0</td>\n",
       "    </tr>\n",
       "    <tr>\n",
       "      <th>4</th>\n",
       "      <td>53</td>\n",
       "      <td>0.0</td>\n",
       "      <td>60</td>\n",
       "      <td>NaN</td>\n",
       "    </tr>\n",
       "  </tbody>\n",
       "</table>\n",
       "</div>"
      ],
      "text/plain": [
       "     i    s  t_test  tau\n",
       "0   88  1.0      60  4.0\n",
       "1  196  1.0      60  4.0\n",
       "2   47  1.0      60  4.0\n",
       "3  184  1.0      60  4.0\n",
       "4   53  0.0      60  NaN"
      ]
     },
     "execution_count": 6,
     "metadata": {},
     "output_type": "execute_result"
    }
   ],
   "source": [
    "observations = generate_observations(model, tests={60: 25, 80: 25}, tau=4)\n",
    "df_obs = pd.DataFrame(observations)\n",
    "df_obs.head()"
   ]
  },
  {
   "cell_type": "code",
   "execution_count": 7,
   "metadata": {},
   "outputs": [
    {
     "data": {
      "text/plain": [
       "t_test  s  \n",
       "60      1.0    0.80\n",
       "        0.0    0.12\n",
       "        2.0    0.08\n",
       "80      1.0    0.72\n",
       "        2.0    0.28\n",
       "Name: s, dtype: float64"
      ]
     },
     "execution_count": 7,
     "metadata": {},
     "output_type": "execute_result"
    }
   ],
   "source": [
    "df_obs.groupby(\"t_test\")[\"s\"].value_counts(normalize=True)"
   ]
  },
  {
   "cell_type": "markdown",
   "metadata": {},
   "source": [
    "# Inference\n",
    "\n",
    "Let's say we start the inference at t_start, and use the actual frequencies \n",
    "as the initial proba."
   ]
  },
  {
   "cell_type": "code",
   "execution_count": 8,
   "metadata": {},
   "outputs": [
    {
     "name": "stdout",
     "output_type": "stream",
     "text": [
      "freqs =  [0.58, 0.39, 0.03]\n"
     ]
    }
   ],
   "source": [
    "from inference_model import InferenceModel\n",
    "\n",
    "def generate_initial_probas(states):\n",
    "    \"generate initial proba according to the freq of states\"\n",
    "    freqs = [np.mean(states==s) for s in [0,1,2]]\n",
    "    print(\"freqs = \", freqs)\n",
    "    N = len(states)\n",
    "    initial_probas = np.broadcast_to(freqs, (N, 3)).copy()\n",
    "    return initial_probas\n",
    "\n",
    "t_start = 40\n",
    "initial_probas = generate_initial_probas(states=model.states[t_start])\n",
    "infer = InferenceModel(initial_probas, model.x_pos, model.y_pos)"
   ]
  },
  {
   "cell_type": "markdown",
   "metadata": {},
   "source": [
    "**Warning** One must be careful to shift the transmissions and the observations by t_start"
   ]
  },
  {
   "cell_type": "code",
   "execution_count": 9,
   "metadata": {},
   "outputs": [
    {
     "name": "stdout",
     "output_type": "stream",
     "text": [
      "t = 0 / 160\n",
      "t = 100 / 160\n"
     ]
    }
   ],
   "source": [
    "transmissions = model.transmissions[t_start:]\n",
    "for obs in observations:\n",
    "    obs[\"t\"] = obs[\"t_test\"]-t_start\n",
    "    if obs[\"s\"]==1:\n",
    "        obs[\"t_I\"] = obs[\"t\"] - obs[\"tau\"]\n",
    "infer.time_evolution(model.recover_probas, transmissions, observations, print_every=100)"
   ]
  },
  {
   "cell_type": "code",
   "execution_count": 10,
   "metadata": {},
   "outputs": [
    {
     "data": {
      "application/vnd.jupyter.widget-view+json": {
       "model_id": "2b4448906a5e4933bf786b76a525baa9",
       "version_major": 2,
       "version_minor": 0
      },
      "text/plain": [
       "interactive(children=(IntText(value=0, description='t'), Output()), _dom_classes=('widget-interact',))"
      ]
     },
     "metadata": {},
     "output_type": "display_data"
    }
   ],
   "source": [
    "from ipywidgets import fixed, IntText\n",
    "interact(\n",
    "    infer.plot_probas_obs, t=IntText(min=0,max=100),\n",
    "    model=fixed(model), observations=fixed(observations), t_start=fixed(t_start)\n",
    ");"
   ]
  },
  {
   "cell_type": "markdown",
   "metadata": {},
   "source": [
    "# Comparing number of S, I or R people "
   ]
  },
  {
   "cell_type": "code",
   "execution_count": 11,
   "metadata": {},
   "outputs": [
    {
     "data": {
      "image/png": "[encoded data removed]",
      "text/plain": [
       "<Figure size 576x288 with 2 Axes>"
      ]
     },
     "metadata": {
      "needs_background": "light"
     },
     "output_type": "display_data"
    }
   ],
   "source": [
    "fig, axs = plt.subplots(1,2, figsize=(8,4), sharey=True)\n",
    "counts_est = infer.get_counts()\n",
    "counts_est.index += t_start\n",
    "counts_est.plot(ax=axs[0])\n",
    "counts[t_start:].plot(ax=axs[1])\n",
    "fig.tight_layout()"
   ]
  }
 ],
 "metadata": {
  "kernelspec": {
   "display_name": "Python 3",
   "language": "python",
   "name": "python3"
  },
  "language_info": {
   "codemirror_mode": {
    "name": "ipython",
    "version": 3
   },
   "file_extension": ".py",
   "mimetype": "text/x-python",
   "name": "python",
   "nbconvert_exporter": "python",
   "pygments_lexer": "ipython3",
   "version": "3.7.3"
  },
  "toc": {
   "base_numbering": 1,
   "nav_menu": {},
   "number_sections": true,
   "sideBar": true,
   "skip_h1_title": false,
   "title_cell": "Table of Contents",
   "title_sidebar": "Contents",
   "toc_cell": false,
   "toc_position": {},
   "toc_section_display": true,
   "toc_window_display": false
  }
 },
 "nbformat": 4,
 "nbformat_minor": 2
}
